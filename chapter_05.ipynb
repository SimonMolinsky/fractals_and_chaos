{
 "cells": [
  {
   "cell_type": "markdown",
   "metadata": {},
   "source": [
    "# Chapter 5: Dimensions: Fractal's, Hausdorff's and Topological\n",
    "\n",
    "Chapter 5 of the book [PL] <b>Fraktale i chaos</b> (eng.: \"Fractals and Chaos\") written by <i>Jacek Kudrewicz</i> describes how to calculate and understand fractal's dimension.\n",
    "\n",
    "I want to honor authors of books, papers and code examples which are used by me during my learning. That's why every new notebook will start from the list of literature."
   ]
  },
  {
   "cell_type": "markdown",
   "metadata": {},
   "source": [
    "## Bibliography:\n",
    "\n",
    "#### Base:\n",
    "* <b>Fraktale i chaos</b> (eng.: \"Fractals and Chaos\") by <i>Jacek Kudrewicz</i>.\n",
    "\n",
    "#### Additional:\n",
    "\n",
    "* <b>Fractal dimension</b> - Wikipedia: https://en.wikipedia.org/wiki/Fractal_dimension"
   ]
  },
  {
   "cell_type": "markdown",
   "metadata": {},
   "source": [
    "## 5.1 Fractal dimension"
   ]
  },
  {
   "cell_type": "markdown",
   "metadata": {},
   "source": [
    "The dimension known from the euclidean distance is not a proper way to describe a fractal beacuse if you tell someone that your fractal is a 2D figure then your listener still doesn't know anything about it. To overcome this problem <b>fractional dimension</b> concept was introduced by Benoit Mandelbrot. More about history and concept of fractal dimension may be found here: https://en.wikipedia.org/wiki/Fractal_dimension.\n",
    "\n",
    "For me the most interesting part of this story is related to the <i>Richardson effect</i>. This is easy to catch in general but hard to understand in detail. You never be able to correct measure length of an isle coastline. Additionally your measurement are depended on scale. I think that better will be example but we must find a way to calculte fractal dimension computationally. Then we will return to the Richardson effect and test it on some natural cases and geographic data."
   ]
  },
  {
   "cell_type": "markdown",
   "metadata": {},
   "source": [
    "### 5.1.1 Box counting algorithm\n",
    "\n",
    "Here I've implemented box counting algorithm (https://en.wikipedia.org/wiki/Box_counting and https://en.wikipedia.org/wiki/Minkowski%E2%80%93Bouligand_dimension) to retrieve fractal dimension. The first thing to do is to build matrix (image) from the numpy arrays. Then calculate points density at the different scales and then retrieve fractal dimension $ d $ from the equation:\n",
    "\n",
    "$$ d = \\lim_{\\epsilon \\to 0} \\frac{logN({\\epsilon})}{log(1/\\epsilon)} $$\n",
    "\n",
    "Known fractal dimensions are:\n",
    "\n",
    "- Sierpinski Triangle: ~1.58\n",
    "- von Koch's Star: ~1.26\n",
    "- Snowflake: ~1.77\n",
    "- Sierpinski Carpet: ~1.89\n",
    "\n",
    "I will test algorithm on them all to find how close I can get to these values."
   ]
  },
  {
   "cell_type": "code",
   "execution_count": 1,
   "metadata": {},
   "outputs": [],
   "source": [
    "%matplotlib inline\n",
    "import numpy as np\n",
    "import matplotlib.pyplot as plt"
   ]
  },
  {
   "cell_type": "code",
   "execution_count": 64,
   "metadata": {},
   "outputs": [],
   "source": [
    "def calculate_dimension(array_of_points):\n",
    "    \n",
    "    # 1. Create image\n",
    "    \n",
    "    # 1.1 Normalize values\n",
    "    # 1.1.1 Get max\n",
    "    max_x = np.max(array_of_points[:, 0])\n",
    "    max_y = np.max(array_of_points[:, 1])\n",
    "    \n",
    "    # 1.1.2 Divide values by max\n",
    "    new_array = np.copy(array_of_points)\n",
    "    new_array[:, 0] = np.round((new_array[:, 0]) * 1000)\n",
    "    new_array[:, 1] = np.round((new_array[:, 1]) * 1000)\n",
    "    new_array = new_array.astype(int)\n",
    "    new_max_x = np.max(new_array[:, 0])\n",
    "    new_max_y = np.max(new_array[:, 1])\n",
    "    \n",
    "    # normalize \n",
    "    image = np.zeros((new_max_y + 1, new_max_x + 1))\n",
    "    \n",
    "    image[new_array] = 255\n",
    "        \n",
    "    return image"
   ]
  },
  {
   "cell_type": "code",
   "execution_count": 65,
   "metadata": {},
   "outputs": [
    {
     "data": {
      "image/png": "[encoded data removed]",
      "text/plain": [
       "<matplotlib.figure.Figure at 0x116fea320>"
      ]
     },
     "metadata": {},
     "output_type": "display_data"
    }
   ],
   "source": [
    "# Test image generation with Sierpinski Triangle\n",
    "\n",
    "def prepare_triangle():\n",
    "    L = 0.5\n",
    "    functions = [1, 2, 3]\n",
    "    triangle = []\n",
    "    x = 0.1\n",
    "    y = 0.1\n",
    "    for i in range(0, 5):\n",
    "        choice = np.random.choice(functions)\n",
    "        nx = L * x\n",
    "        ny = L * y\n",
    "        if choice == 1:\n",
    "            triangle.append([nx, ny])\n",
    "        elif choice == 2:\n",
    "            nx = nx + 2\n",
    "            triangle.append([nx, ny])\n",
    "        else:\n",
    "            nx = nx + 1\n",
    "            ny = ny + np.sqrt(3)\n",
    "            triangle.append([nx, ny])\n",
    "        x = nx\n",
    "        y = ny\n",
    "    return np.asarray(triangle)\n",
    "\n",
    "scatter_triangle = prepare_triangle()\n",
    "plt.figure(figsize=(10,10))\n",
    "plt.scatter(scatter_triangle[:, 0], scatter_triangle[:, 1], s=0.2, c='black')\n",
    "plt.show()"
   ]
  },
  {
   "cell_type": "code",
   "execution_count": 66,
   "metadata": {},
   "outputs": [
    {
     "ename": "IndexError",
     "evalue": "index 2512 is out of bounds for axis 0 with size 1758",
     "output_type": "error",
     "traceback": [
      "\u001b[0;31m---------------------------------------------------------------------------\u001b[0m",
      "\u001b[0;31mIndexError\u001b[0m                                Traceback (most recent call last)",
      "\u001b[0;32m<ipython-input-66-f0f43d22c93d>\u001b[0m in \u001b[0;36m<module>\u001b[0;34m()\u001b[0m\n\u001b[1;32m      1\u001b[0m \u001b[0;31m# test1 - image\u001b[0m\u001b[0;34m\u001b[0m\u001b[0;34m\u001b[0m\u001b[0m\n\u001b[1;32m      2\u001b[0m \u001b[0;34m\u001b[0m\u001b[0m\n\u001b[0;32m----> 3\u001b[0;31m \u001b[0mtriangle_image\u001b[0m \u001b[0;34m=\u001b[0m \u001b[0mcalculate_dimension\u001b[0m\u001b[0;34m(\u001b[0m\u001b[0mscatter_triangle\u001b[0m\u001b[0;34m)\u001b[0m\u001b[0;34m\u001b[0m\u001b[0m\n\u001b[0m\u001b[1;32m      4\u001b[0m \u001b[0mplt\u001b[0m\u001b[0;34m.\u001b[0m\u001b[0mfigure\u001b[0m\u001b[0;34m(\u001b[0m\u001b[0mfigsize\u001b[0m\u001b[0;34m=\u001b[0m\u001b[0;34m(\u001b[0m\u001b[0;36m10\u001b[0m\u001b[0;34m,\u001b[0m\u001b[0;36m10\u001b[0m\u001b[0;34m)\u001b[0m\u001b[0;34m)\u001b[0m\u001b[0;34m\u001b[0m\u001b[0m\n\u001b[1;32m      5\u001b[0m \u001b[0mplt\u001b[0m\u001b[0;34m.\u001b[0m\u001b[0mimshow\u001b[0m\u001b[0;34m(\u001b[0m\u001b[0mtriangle_image\u001b[0m\u001b[0;34m)\u001b[0m\u001b[0;34m\u001b[0m\u001b[0m\n",
      "\u001b[0;32m<ipython-input-64-9a0871fe9986>\u001b[0m in \u001b[0;36mcalculate_dimension\u001b[0;34m(array_of_points)\u001b[0m\n\u001b[1;32m     19\u001b[0m     \u001b[0mimage\u001b[0m \u001b[0;34m=\u001b[0m \u001b[0mnp\u001b[0m\u001b[0;34m.\u001b[0m\u001b[0mzeros\u001b[0m\u001b[0;34m(\u001b[0m\u001b[0;34m(\u001b[0m\u001b[0mnew_max_y\u001b[0m \u001b[0;34m+\u001b[0m \u001b[0;36m1\u001b[0m\u001b[0;34m,\u001b[0m \u001b[0mnew_max_x\u001b[0m \u001b[0;34m+\u001b[0m \u001b[0;36m1\u001b[0m\u001b[0;34m)\u001b[0m\u001b[0;34m)\u001b[0m\u001b[0;34m\u001b[0m\u001b[0m\n\u001b[1;32m     20\u001b[0m \u001b[0;34m\u001b[0m\u001b[0m\n\u001b[0;32m---> 21\u001b[0;31m     \u001b[0mimage\u001b[0m\u001b[0;34m[\u001b[0m\u001b[0mnew_array\u001b[0m\u001b[0;34m]\u001b[0m \u001b[0;34m=\u001b[0m \u001b[0;36m255\u001b[0m\u001b[0;34m\u001b[0m\u001b[0m\n\u001b[0m\u001b[1;32m     22\u001b[0m \u001b[0;34m\u001b[0m\u001b[0m\n\u001b[1;32m     23\u001b[0m     \u001b[0;32mreturn\u001b[0m \u001b[0mimage\u001b[0m\u001b[0;34m\u001b[0m\u001b[0m\n",
      "\u001b[0;31mIndexError\u001b[0m: index 2512 is out of bounds for axis 0 with size 1758"
     ]
    }
   ],
   "source": [
    "# test1 - image\n",
    "\n",
    "triangle_image = calculate_dimension(scatter_triangle)\n",
    "plt.figure(figsize=(10,10))\n",
    "plt.imshow(triangle_image)\n",
    "plt.show()"
   ]
  },
  {
   "cell_type": "code",
   "execution_count": null,
   "metadata": {},
   "outputs": [],
   "source": []
  }
 ],
 "metadata": {
  "kernelspec": {
   "display_name": "Python 3",
   "language": "python",
   "name": "python3"
  },
  "language_info": {
   "codemirror_mode": {
    "name": "ipython",
    "version": 3
   },
   "file_extension": ".py",
   "mimetype": "text/x-python",
   "name": "python",
   "nbconvert_exporter": "python",
   "pygments_lexer": "ipython3",
   "version": "3.5.4"
  }
 },
 "nbformat": 4,
 "nbformat_minor": 2
}
