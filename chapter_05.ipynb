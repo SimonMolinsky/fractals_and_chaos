{
 "cells": [
  {
   "cell_type": "markdown",
   "metadata": {},
   "source": [
    "# Chapter 5: Dimensions: Fractal's, Hausdorff's and Topological\n",
    "\n",
    "Chapter 5 of the book [PL] <b>Fraktale i chaos</b> (eng.: \"Fractals and Chaos\") written by <i>Jacek Kudrewicz</i> describes how to calculate and understand fractal's dimension.\n",
    "\n",
    "I want to honor authors of books, papers and code examples which are used by me during my learning. That's why every new notebook will start from the list of literature."
   ]
  },
  {
   "cell_type": "markdown",
   "metadata": {},
   "source": [
    "## Bibliography:\n",
    "\n",
    "#### Base:\n",
    "* <b>Fraktale i chaos</b> (eng.: \"Fractals and Chaos\") by <i>Jacek Kudrewicz</i>.\n",
    "\n",
    "#### Additional:\n",
    "\n",
    "* <b>Fractal dimension</b> - Wikipedia: https://en.wikipedia.org/wiki/Fractal_dimension"
   ]
  },
  {
   "cell_type": "markdown",
   "metadata": {},
   "source": [
    "## 5.1 Fractal dimension"
   ]
  },
  {
   "cell_type": "markdown",
   "metadata": {},
   "source": [
    "The dimension known from the euclidean distance is not a proper way to describe a fractal beacuse if you tell someone that your fractal is a 2D figure then your listener still doesn't know anything about it. To overcome this problem <b>fractional dimension</b> concept was introduced by Benoit Mandelbrot. More about history and concept of fractal dimension may be found here: https://en.wikipedia.org/wiki/Fractal_dimension.\n",
    "\n",
    "For me the most interesting part of this story is related to the <i>Richardson effect</i>. This is easy to catch in general but hard to understand in detail. You never be able to correct measure length of an isle coastline. Additionally your measurement are depended on scale. I think that better will be example but we must find a way to calculte fractal dimension computationally. Then we will return to the Richardson effect and test it on some natural cases and geographic data."
   ]
  },
  {
   "cell_type": "markdown",
   "metadata": {},
   "source": [
    "https://en.wikipedia.org/wiki/Box_counting"
   ]
  }
 ],
 "metadata": {
  "kernelspec": {
   "display_name": "Python 3",
   "language": "python",
   "name": "python3"
  },
  "language_info": {
   "codemirror_mode": {
    "name": "ipython",
    "version": 3
   },
   "file_extension": ".py",
   "mimetype": "text/x-python",
   "name": "python",
   "nbconvert_exporter": "python",
   "pygments_lexer": "ipython3",
   "version": "3.5.4"
  }
 },
 "nbformat": 4,
 "nbformat_minor": 2
}
