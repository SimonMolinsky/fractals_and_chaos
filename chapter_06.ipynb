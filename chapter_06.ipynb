{
 "cells": [
  {
   "cell_type": "markdown",
   "metadata": {},
   "source": [
    "# Chapter 6: Dynamical Systems\n",
    "\n",
    "Chapter 6 of the book [PL] <b>Fraktale i chaos</b> (eng.: \"Fractals and Chaos\") written by <i>Jacek Kudrewicz</i> describes dynamical systems with discrete and continuous time.\n",
    "\n",
    "I want to honor authors of books, papers and code examples which are used by me during my learning. That's why every new notebook will start from the list of literature."
   ]
  },
  {
   "cell_type": "markdown",
   "metadata": {},
   "source": [
    "## Bibliography:\n",
    "\n",
    "#### Base:\n",
    "* <b>Fraktale i chaos</b> (eng.: \"Fractals and Chaos\") by <i>Jacek Kudrewicz</i>.\n",
    "\n",
    "#### Additional:\n",
    "\n",
    "* "
   ]
  },
  {
   "cell_type": "markdown",
   "metadata": {},
   "source": [
    "## 6.1 Discrete-time dynamical systems\n",
    "\n",
    "Dynamical systems described in the book (Fractals and Chaos) are not exactly systems known from engineering but their generalization. Book describes dynamical systems as the projections of metric space into itself. In practice equations are not so different from the calssic mechanical systems such as equation of the motion (velocity):\n",
    "\n",
    "$$ \\frac{ds}{dt} = v(t) $$\n",
    "\n",
    "<b>Dynamical system with a discrete time steps -> the cascade</b>\n",
    "\n",
    "If $ X $ is a metric space and $ \\phi $ is a projection of this space into itself then the pair $ (X, \\phi) $ is a dynamical system with a discrete time or cascade. We analyze changes in the set of elements if the $ X $: $ x_{0}, x_{1}, x_{2}, x_{3}, ..., $ where $ x_{(n + 1)} = \\phi(x_{n}) $.\n",
    "\n",
    "<b>Example</b>\n",
    "\n",
    "Author of a book gives an example of the iterative method of solving differential equation but I try to solve more \"real-life\" problem which is easier to understand. To make thing more interesting I've chosen SIR model known from epidemiology (susceptible, infected, recovered)."
   ]
  },
  {
   "cell_type": "markdown",
   "metadata": {},
   "source": [
    "### 6.1.1 SIR model\n",
    "\n",
    "More information about the model is available here: https://en.wikipedia.org/wiki/Compartmental_models_in_epidemiology#The_SIR_model and I'm going straight into equations.\n",
    "\n",
    "$$ \\frac{dS}{dt} = -\\frac{\\beta IS}{N} $$\n",
    "$$ \\frac{dI}{dt} = \\frac{\\beta IS}{N} - \\gamma I $$\n",
    "$$ \\frac{dR}{dt} = \\gamma I $$\n",
    "\n",
    "where:\n",
    "\n",
    "* $ S $ - the number of susceptible individuals,\n",
    "* $ I $ - the number of infected individuals,\n",
    "* $ R $ - the number of recovered individuals.\n",
    "\n",
    "At this point we assume that $ S + I + R = N = const $ where $ N $ is the base population. This assumption gives us way to transform these equation into dynamical systems which may be analyzed by a computer.\n",
    "\n",
    "At the time $ t = 0 $ number of recovered will be 0 too. Then only $ S + I = N $ and we may assume that at the beginning 0.01% of population is infected.\n",
    "\n",
    "Parameters $ \\beta, \\gamma $ are, in order, probability of infection and probability of recovery (equal $ \\frac{1}{T} $ where $ T $ is the mean time of sickness).\n",
    "\n",
    "I assume that:\n",
    "* $ N = 1000000 $\n",
    "* $ \\beta = 0.5 $\n",
    "* $ \\gamma = 0.14 $\n",
    "\n",
    "Then model will look like:"
   ]
  },
  {
   "cell_type": "code",
   "execution_count": 10,
   "metadata": {},
   "outputs": [],
   "source": [
    "%matplotlib inline\n",
    "import numpy as np\n",
    "import matplotlib.pyplot as plt    "
   ]
  },
  {
   "cell_type": "code",
   "execution_count": 21,
   "metadata": {},
   "outputs": [],
   "source": [
    "def sir_model(N=1000000, beta=0.5, gamma=0.14, infected_ratio=0.00001, time_delta=10):\n",
    "    t = 0\n",
    "    S = [N * (1 - infected_ratio)]\n",
    "    I = [N * infected_ratio]\n",
    "    R = [0]\n",
    "    \n",
    "    while t < time_delta:\n",
    "        St = -(beta * I[-1] * S[-1]) / N\n",
    "        It = (beta * I[-1] * S[-1]) / N - gamma * I[-1]\n",
    "        Rt = gamma * I[-1]\n",
    "        \n",
    "        S.append(St)\n",
    "        I.append(It)\n",
    "        R.append(Rt)\n",
    "        \n",
    "        if (N-R[-1]) < 0.5:\n",
    "            t = 1000\n",
    "        t = t + 1\n",
    "    return np.asarray(S), np.asarray(I), np.asarray(R)"
   ]
  },
  {
   "cell_type": "code",
   "execution_count": 22,
   "metadata": {},
   "outputs": [],
   "source": [
    "s, i, r = sir_model()"
   ]
  },
  {
   "cell_type": "code",
   "execution_count": 23,
   "metadata": {},
   "outputs": [
    {
     "data": {
      "image/png": "[encoded data removed]",
      "text/plain": [
       "<matplotlib.figure.Figure at 0x110f0dc88>"
      ]
     },
     "metadata": {},
     "output_type": "display_data"
    }
   ],
   "source": [
    "plt.figure(figsize=(10, 10))\n",
    "plt.plot(s)\n",
    "plt.show()"
   ]
  },
  {
   "cell_type": "markdown",
   "metadata": {},
   "source": [
    "## 6.2 Continuous-time dynamical systems"
   ]
  },
  {
   "cell_type": "code",
   "execution_count": 24,
   "metadata": {},
   "outputs": [
    {
     "data": {
      "text/plain": [
       "array([  9.99990000e+05,  -4.99995000e+00,   8.99978500e-06,\n",
       "         2.26795482e-12,  -8.00137635e-20,  -3.95205549e-28,\n",
       "         2.73280979e-37,   2.64559774e-47,  -3.58563645e-58,\n",
       "        -6.80356803e-70,   1.80732079e-82])"
      ]
     },
     "execution_count": 24,
     "metadata": {},
     "output_type": "execute_result"
    }
   ],
   "source": [
    "s"
   ]
  },
  {
   "cell_type": "code",
   "execution_count": 25,
   "metadata": {},
   "outputs": [
    {
     "data": {
      "text/plain": [
       "array([  1.00000000e+01,   3.59995000e+00,  -5.04002000e-01,\n",
       "         7.05602800e-02,  -9.87843920e-03,   1.38298149e-03,\n",
       "        -1.93617408e-04,   2.71064372e-05,  -3.79490120e-06,\n",
       "         5.31286168e-07,  -7.43800635e-08])"
      ]
     },
     "execution_count": 25,
     "metadata": {},
     "output_type": "execute_result"
    }
   ],
   "source": [
    "i"
   ]
  },
  {
   "cell_type": "code",
   "execution_count": 26,
   "metadata": {},
   "outputs": [
    {
     "data": {
      "text/plain": [
       "array([  0.00000000e+00,   1.40000000e+00,   5.03993000e-01,\n",
       "        -7.05602800e-02,   9.87843920e-03,  -1.38298149e-03,\n",
       "         1.93617408e-04,  -2.71064372e-05,   3.79490120e-06,\n",
       "        -5.31286168e-07,   7.43800635e-08])"
      ]
     },
     "execution_count": 26,
     "metadata": {},
     "output_type": "execute_result"
    }
   ],
   "source": [
    "r"
   ]
  },
  {
   "cell_type": "code",
   "execution_count": null,
   "metadata": {},
   "outputs": [],
   "source": []
  }
 ],
 "metadata": {
  "kernelspec": {
   "display_name": "Python 3",
   "language": "python",
   "name": "python3"
  },
  "language_info": {
   "codemirror_mode": {
    "name": "ipython",
    "version": 3
   },
   "file_extension": ".py",
   "mimetype": "text/x-python",
   "name": "python",
   "nbconvert_exporter": "python",
   "pygments_lexer": "ipython3",
   "version": "3.5.4"
  }
 },
 "nbformat": 4,
 "nbformat_minor": 2
}
