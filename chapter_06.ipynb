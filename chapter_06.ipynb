{
 "cells": [
  {
   "cell_type": "markdown",
   "metadata": {},
   "source": [
    "# Chapter 6: Dynamical Systems\n",
    "\n",
    "Chapter 6 of the book [PL] <b>Fraktale i chaos</b> (eng.: \"Fractals and Chaos\") written by <i>Jacek Kudrewicz</i> describes dynamical systems with discrete and continuous time.\n",
    "\n",
    "I want to honor authors of books, papers and code examples which are used by me during my learning. That's why every new notebook will start from the list of literature."
   ]
  },
  {
   "cell_type": "markdown",
   "metadata": {},
   "source": [
    "## Bibliography:\n",
    "\n",
    "#### Base:\n",
    "* <b>Fraktale i chaos</b> (eng.: \"Fractals and Chaos\") by <i>Jacek Kudrewicz</i>.\n",
    "\n",
    "#### Additional:\n",
    "\n",
    "* "
   ]
  },
  {
   "cell_type": "markdown",
   "metadata": {},
   "source": [
    "## 6.1 Discrete-time dynamical systems"
   ]
  },
  {
   "cell_type": "markdown",
   "metadata": {},
   "source": [
    "## 6.2 Continuous-time dynamical systems"
   ]
  },
  {
   "cell_type": "code",
   "execution_count": null,
   "metadata": {},
   "outputs": [],
   "source": []
  }
 ],
 "metadata": {
  "kernelspec": {
   "display_name": "Python 3",
   "language": "python",
   "name": "python3"
  },
  "language_info": {
   "codemirror_mode": {
    "name": "ipython",
    "version": 3
   },
   "file_extension": ".py",
   "mimetype": "text/x-python",
   "name": "python",
   "nbconvert_exporter": "python",
   "pygments_lexer": "ipython3",
   "version": "3.5.4"
  }
 },
 "nbformat": 4,
 "nbformat_minor": 2
}
