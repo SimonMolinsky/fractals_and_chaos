{
 "cells": [
  {
   "cell_type": "markdown",
   "metadata": {},
   "source": [
    "# Chapter 6: Dynamical Systems\n",
    "\n",
    "Chapter 6 of the book [PL] <b>Fraktale i chaos</b> (eng.: \"Fractals and Chaos\") written by <i>Jacek Kudrewicz</i> describes dynamical systems with discrete and continuous time.\n",
    "\n",
    "I want to honor authors of books, papers and code examples which are used by me during my learning. That's why every new notebook will start from the list of literature."
   ]
  },
  {
   "cell_type": "markdown",
   "metadata": {},
   "source": [
    "## Bibliography:\n",
    "\n",
    "#### Base:\n",
    "* <b>Fraktale i chaos</b> (eng.: \"Fractals and Chaos\") by <i>Jacek Kudrewicz</i>.\n",
    "\n",
    "#### Additional:\n",
    "\n",
    "* "
   ]
  },
  {
   "cell_type": "markdown",
   "metadata": {},
   "source": [
    "## 6.1 Discrete-time dynamical systems\n",
    "\n",
    "Dynamical systems described in the book (Fractals and Chaos) are not exactly systems known from engineering but their generalization. Book describes dynamical systems as the projections of metric space into itself. In practice equations are not so different from the calssic mechanical systems such as equation of the motion (velocity):\n",
    "\n",
    "$$ \\frac{ds}{dt} = v(t) $$\n",
    "\n",
    "<b>Dynamical system with a discrete time steps -> the cascade</b>\n",
    "\n",
    "If $ X $ is a metric space and $ \\phi $ is a projection of this space into itself then the pair $ (X, \\phi) $ is a dynamical system with a discrete time or cascade. We analyze changes in the set of elements if the $ X $: $ x_{0}, x_{1}, x_{2}, x_{3}, ..., $ where $ x_{(n + 1)} = \\phi(x_{n}) $.\n",
    "\n",
    "<b>Example</b>\n",
    "\n",
    "Author of a book gives an example of the iterative method of solving differential equation but I try to solve more \"real-life\" problem which is easier to understand. To make thing more interesting I've chosen SIR model known from epidemiology (susceptible, infected, recovered)."
   ]
  },
  {
   "cell_type": "markdown",
   "metadata": {},
   "source": [
    "### 6.1.1 SIR model\n",
    "\n",
    "More information about the model is available here: https://en.wikipedia.org/wiki/Compartmental_models_in_epidemiology#The_SIR_model and I'm going straight into equations.\n",
    "\n",
    "$$ \\frac{dS}{dt} = -\\frac{\\beta IS}{N} $$\n",
    "$$ \\frac{dI}{dt} = \\frac{\\beta IS}{N} - \\gamma I $$\n",
    "$$ \\frac{dR}{dt} = \\gamma I $$\n",
    "\n",
    "where:\n",
    "\n",
    "* $ S $ - the number of susceptible individuals,\n",
    "* $ I $ - the number of infected individuals,\n",
    "* $ R $ - the number of recovered individuals.\n",
    "\n",
    "At this point we assume that $ S + I + R = N = const $ where $ N $ is the base population. This assumption gives us way to transform these equation into dynamical systems which may be analyzed by a computer."
   ]
  },
  {
   "cell_type": "markdown",
   "metadata": {},
   "source": [
    "## 6.2 Continuous-time dynamical systems"
   ]
  },
  {
   "cell_type": "code",
   "execution_count": null,
   "metadata": {},
   "outputs": [],
   "source": []
  }
 ],
 "metadata": {
  "kernelspec": {
   "display_name": "Python 3",
   "language": "python",
   "name": "python3"
  },
  "language_info": {
   "codemirror_mode": {
    "name": "ipython",
    "version": 3
   },
   "file_extension": ".py",
   "mimetype": "text/x-python",
   "name": "python",
   "nbconvert_exporter": "python",
   "pygments_lexer": "ipython3",
   "version": "3.5.4"
  }
 },
 "nbformat": 4,
 "nbformat_minor": 2
}
